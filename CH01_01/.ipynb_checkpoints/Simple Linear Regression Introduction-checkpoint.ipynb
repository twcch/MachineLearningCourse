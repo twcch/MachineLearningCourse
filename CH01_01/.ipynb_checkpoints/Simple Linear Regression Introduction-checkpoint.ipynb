{
 "cells": [
  {
   "cell_type": "markdown",
   "id": "8e8612ae-2735-4227-ab24-50206466d4d8",
   "metadata": {},
   "source": [
    "# Simple Linear Regression Introduction"
   ]
  },
  {
   "cell_type": "markdown",
   "id": "cf25bc5f-056c-4eaa-bf7e-a2d777b961b2",
   "metadata": {},
   "source": [
    "## 相關方程式"
   ]
  },
  {
   "cell_type": "markdown",
   "id": "801c214f-d447-4b41-a629-182ebaf6574a",
   "metadata": {},
   "source": [
    "### 簡單線性迴歸"
   ]
  },
  {
   "cell_type": "markdown",
   "id": "88f25535-2e62-4138-bfc9-ed0269c4fcb3",
   "metadata": {},
   "source": [
    "$\\hat{y} = mx + b$\n",
    "\n",
    "where:\n",
    "- $\\hat{y}$ 表示預測的輸出值或目標值，它是一個由模型計算出的估計值，用於近似真實值 y。\n",
    "- $m$ 為斜率\n",
    "- $b$ 為截距"
   ]
  },
  {
   "cell_type": "markdown",
   "id": "61683e19-3b53-4a52-b89c-1de22c40312d",
   "metadata": {},
   "source": [
    "### 斜率"
   ]
  },
  {
   "cell_type": "markdown",
   "id": "13f65ff0-9557-473c-b77f-b08338a6af1d",
   "metadata": {},
   "source": [
    "$m = \\frac{n\\sum{xy}-\\sum{x}\\sum{y}}{n\\sum{x^{2}}-(\\sum{x})^2}$\n",
    "\n",
    "where:\n",
    "- $n$ 表示有多少個值"
   ]
  },
  {
   "cell_type": "markdown",
   "id": "acbf1c2e-9dd0-4dac-b4f1-0a1a775c1d0d",
   "metadata": {},
   "source": [
    "### 截距"
   ]
  },
  {
   "cell_type": "markdown",
   "id": "295b7ba9-7c1f-4fdc-b32b-928756d81935",
   "metadata": {},
   "source": [
    "$b = \\frac{\\sum{y}-m\\sum{x}}{n}$"
   ]
  },
  {
   "cell_type": "markdown",
   "id": "550764c3-d2cf-4878-9493-81777b4df79f",
   "metadata": {},
   "source": [
    "### 殘差"
   ]
  },
  {
   "cell_type": "markdown",
   "id": "7b86a873-11f2-4288-9b3b-3c1e5b6cf7f5",
   "metadata": {},
   "source": [
    "$residual = actual - predicted$"
   ]
  },
  {
   "cell_type": "markdown",
   "id": "20a269f3-e415-4554-a258-b77de225df16",
   "metadata": {},
   "source": [
    "### 殘差平方和"
   ]
  },
  {
   "cell_type": "markdown",
   "id": "4dd5eabd-25ae-45d1-89fa-626313cac84f",
   "metadata": {},
   "source": [
    "$residual square = actual - predicted$"
   ]
  },
  {
   "cell_type": "markdown",
   "id": "39309815-8bd2-422e-8265-eca1cdcfc71b",
   "metadata": {},
   "source": [
    "## 實作"
   ]
  },
  {
   "cell_type": "markdown",
   "id": "5ad84a22-583c-4ea3-9a82-3fc901784558",
   "metadata": {},
   "source": [
    "### 生成數據"
   ]
  },
  {
   "cell_type": "code",
   "execution_count": 5,
   "id": "a8c5aad6-bcee-4f4c-84a2-3c5ab788da81",
   "metadata": {},
   "outputs": [],
   "source": [
    "import pandas as pd"
   ]
  },
  {
   "cell_type": "code",
   "execution_count": 6,
   "id": "532e6d5f-ebd6-416f-836f-673941e2a859",
   "metadata": {},
   "outputs": [
    {
     "data": {
      "text/html": [
       "<div>\n",
       "<style scoped>\n",
       "    .dataframe tbody tr th:only-of-type {\n",
       "        vertical-align: middle;\n",
       "    }\n",
       "\n",
       "    .dataframe tbody tr th {\n",
       "        vertical-align: top;\n",
       "    }\n",
       "\n",
       "    .dataframe thead th {\n",
       "        text-align: right;\n",
       "    }\n",
       "</style>\n",
       "<table border=\"1\" class=\"dataframe\">\n",
       "  <thead>\n",
       "    <tr style=\"text-align: right;\">\n",
       "      <th></th>\n",
       "      <th>x</th>\n",
       "      <th>y</th>\n",
       "    </tr>\n",
       "  </thead>\n",
       "  <tbody>\n",
       "    <tr>\n",
       "      <th>0</th>\n",
       "      <td>1</td>\n",
       "      <td>28</td>\n",
       "    </tr>\n",
       "    <tr>\n",
       "      <th>1</th>\n",
       "      <td>2</td>\n",
       "      <td>38</td>\n",
       "    </tr>\n",
       "    <tr>\n",
       "      <th>2</th>\n",
       "      <td>3</td>\n",
       "      <td>23</td>\n",
       "    </tr>\n",
       "    <tr>\n",
       "      <th>3</th>\n",
       "      <td>4</td>\n",
       "      <td>112</td>\n",
       "    </tr>\n",
       "    <tr>\n",
       "      <th>4</th>\n",
       "      <td>5</td>\n",
       "      <td>79</td>\n",
       "    </tr>\n",
       "    <tr>\n",
       "      <th>5</th>\n",
       "      <td>6</td>\n",
       "      <td>115</td>\n",
       "    </tr>\n",
       "  </tbody>\n",
       "</table>\n",
       "</div>"
      ],
      "text/plain": [
       "   x    y\n",
       "0  1   28\n",
       "1  2   38\n",
       "2  3   23\n",
       "3  4  112\n",
       "4  5   79\n",
       "5  6  115"
      ]
     },
     "execution_count": 6,
     "metadata": {},
     "output_type": "execute_result"
    }
   ],
   "source": [
    "data = pd.DataFrame({'x': [1, 2, 3, 4, 5, 6], \n",
    "                     'y': [28, 38, 23, 112, 79, 115]})\n",
    "data"
   ]
  },
  {
   "cell_type": "markdown",
   "id": "4887fdfd-f713-4b27-a6e7-4c683e626518",
   "metadata": {},
   "source": [
    "### 斜率計算"
   ]
  },
  {
   "cell_type": "code",
   "execution_count": 7,
   "id": "4e5c4496-61d4-411c-9fc8-a6e1597b52bd",
   "metadata": {},
   "outputs": [],
   "source": [
    "n = 6\n",
    "sum_x = sum(data['x'])\n",
    "sum_y = sum(data['y'])\n",
    "sum_xy = sum(data['x'] * data['y'])\n",
    "sum_multiple_x_square = sum(pow(data['x'], 2))"
   ]
  },
  {
   "cell_type": "code",
   "execution_count": 8,
   "id": "ad774a01-9af1-4546-b4b2-5029ebc26b92",
   "metadata": {},
   "outputs": [
    {
     "data": {
      "text/plain": [
       "18.485714285714284"
      ]
     },
     "execution_count": 8,
     "metadata": {},
     "output_type": "execute_result"
    }
   ],
   "source": [
    "m = (n * sum_xy - sum_x * sum_y) / (n * sum_multiple_x_square - (sum_x) ** 2)\n",
    "m"
   ]
  },
  {
   "cell_type": "markdown",
   "id": "d8b34046-6451-4345-bed3-c0faa38e8ad9",
   "metadata": {},
   "source": [
    "### 截距計算"
   ]
  },
  {
   "cell_type": "code",
   "execution_count": 9,
   "id": "9a2a3a1c-28eb-4082-ba6f-b89a97c504da",
   "metadata": {},
   "outputs": [
    {
     "data": {
      "text/plain": [
       "1.1333333333333353"
      ]
     },
     "execution_count": 9,
     "metadata": {},
     "output_type": "execute_result"
    }
   ],
   "source": [
    "b = (sum_y - m * sum_x) / n\n",
    "b"
   ]
  },
  {
   "cell_type": "markdown",
   "id": "5a383fcf-9fca-455f-aa0f-b0d628abd476",
   "metadata": {},
   "source": [
    "### 預測"
   ]
  },
  {
   "cell_type": "markdown",
   "id": "a62bf4d7-1f01-4e4c-ba63-661407d6218a",
   "metadata": {},
   "source": [
    "設 x = 7"
   ]
  },
  {
   "cell_type": "code",
   "execution_count": 10,
   "id": "2063178b-14eb-47bc-a3ff-7f9318c8691f",
   "metadata": {},
   "outputs": [
    {
     "data": {
      "text/plain": [
       "130.5333333333333"
      ]
     },
     "execution_count": 10,
     "metadata": {},
     "output_type": "execute_result"
    }
   ],
   "source": [
    "m * 7 + b"
   ]
  },
  {
   "cell_type": "code",
   "execution_count": null,
   "id": "1dacf906-c56f-4017-8323-2dc7532b3f2e",
   "metadata": {},
   "outputs": [],
   "source": []
  }
 ],
 "metadata": {
  "kernelspec": {
   "display_name": "Python 3 (ipykernel)",
   "language": "python",
   "name": "python3"
  },
  "language_info": {
   "codemirror_mode": {
    "name": "ipython",
    "version": 3
   },
   "file_extension": ".py",
   "mimetype": "text/x-python",
   "name": "python",
   "nbconvert_exporter": "python",
   "pygments_lexer": "ipython3",
   "version": "3.12.5"
  }
 },
 "nbformat": 4,
 "nbformat_minor": 5
}
