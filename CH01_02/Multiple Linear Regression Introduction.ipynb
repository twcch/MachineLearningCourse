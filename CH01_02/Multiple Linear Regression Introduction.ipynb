{
 "cells": [
  {
   "cell_type": "markdown",
   "id": "8e8612ae-2735-4227-ab24-50206466d4d8",
   "metadata": {},
   "source": "# Multiple Linear Regression Introduction"
  },
  {
   "cell_type": "markdown",
   "id": "cf25bc5f-056c-4eaa-bf7e-a2d777b961b2",
   "metadata": {},
   "source": [
    "## 相關方程式"
   ]
  },
  {
   "cell_type": "markdown",
   "id": "801c214f-d447-4b41-a629-182ebaf6574a",
   "metadata": {},
   "source": "### 多元線性迴歸"
  },
  {
   "cell_type": "markdown",
   "id": "88f25535-2e62-4138-bfc9-ed0269c4fcb3",
   "metadata": {},
   "source": [
    "$\\hat{y} = m_1x_1 + m_2x_2 + ... + b$\n",
    "\n",
    "where:\n",
    "- $\\hat{y}$ 表示預測的輸出值或目標值，它是一個由模型計算出的估計值，用於近似真實值 y。\n",
    "- $m$ 為斜率\n",
    "- $b$ 為截距"
   ]
  },
  {
   "cell_type": "markdown",
   "id": "61683e19-3b53-4a52-b89c-1de22c40312d",
   "metadata": {},
   "source": [
    "### 斜率"
   ]
  },
  {
   "cell_type": "markdown",
   "id": "13f65ff0-9557-473c-b77f-b08338a6af1d",
   "metadata": {},
   "source": [
    "$m = \\frac{n\\sum{xy}-\\sum{x}\\sum{y}}{n\\sum{x^{2}}-(\\sum{x})^2}$\n",
    "\n",
    "where:\n",
    "- $n$ 表示有多少個值"
   ]
  },
  {
   "cell_type": "markdown",
   "id": "acbf1c2e-9dd0-4dac-b4f1-0a1a775c1d0d",
   "metadata": {},
   "source": [
    "### 截距"
   ]
  },
  {
   "cell_type": "markdown",
   "id": "295b7ba9-7c1f-4fdc-b32b-928756d81935",
   "metadata": {},
   "source": [
    "$b = \\frac{\\sum{y}-m\\sum{x}}{n}$"
   ]
  },
  {
   "metadata": {},
   "cell_type": "code",
   "outputs": [],
   "execution_count": null,
   "source": "",
   "id": "3924ef2ad0d3a61d"
  }
 ],
 "metadata": {
  "kernelspec": {
   "display_name": "Python 3 (ipykernel)",
   "language": "python",
   "name": "python3"
  },
  "language_info": {
   "codemirror_mode": {
    "name": "ipython",
    "version": 3
   },
   "file_extension": ".py",
   "mimetype": "text/x-python",
   "name": "python",
   "nbconvert_exporter": "python",
   "pygments_lexer": "ipython3",
   "version": "3.12.5"
  }
 },
 "nbformat": 4,
 "nbformat_minor": 5
}
